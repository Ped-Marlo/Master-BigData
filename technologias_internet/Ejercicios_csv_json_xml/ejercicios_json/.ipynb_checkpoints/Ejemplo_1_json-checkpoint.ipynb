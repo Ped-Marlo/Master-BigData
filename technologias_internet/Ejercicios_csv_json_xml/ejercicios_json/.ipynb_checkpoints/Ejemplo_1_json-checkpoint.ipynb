{
 "cells": [
  {
   "cell_type": "code",
   "execution_count": 9,
   "metadata": {},
   "outputs": [
    {
     "name": "stdout",
     "output_type": "stream",
     "text": [
      "Teclea el número de personaje a consultar o cero para terminar: e\n"
     ]
    }
   ],
   "source": [
    "import urllib.request \n",
    "import json \n",
    "\n",
    "serviceurl = 'https://swapi.dev/api/people/' \n",
    "while True: \n",
    "    try:\n",
    "        numero = input('Teclea el número de personaje a consultar o cero para terminar: ')\n",
    "        if int(numero) <= 0 :\n",
    "            break\n",
    "        else:\n",
    "            url = serviceurl + numero + \"/?format=json\"\n",
    "            print ('Recuperando', url) \n",
    "            request = urllib.request.Request(url)\n",
    "            request.add_header('User-Agent',\"cheese\")\n",
    "            data = urllib.request.urlopen(request).read()\n",
    "            print ('Recuperados',len(data),' caracteres') \n",
    "            try: \n",
    "                js = json.loads(data)\n",
    "            except: js - None\n",
    "            print (\"Nombre: \",js['name'])\n",
    "            print (\"Altura: \",js['height'])\n",
    "            print (\"Color de cabello: \",js['hair_color'])\n",
    "            print (\"Color de piel: \",js['skin_color'])\n",
    "            print (\"Color de ojos: \",js['eye_color'])\n",
    "            print (\"Año de nacimiento: \",js['birth_year'])\n",
    "            print (\"Genero: \",js['gender'])\n",
    "            import urllib.request \n",
    "\n",
    "    except ValueError:\n",
    "        break\n"
   ]
  },
  {
   "cell_type": "code",
   "execution_count": 10,
   "metadata": {},
   "outputs": [
    {
     "ename": "ValueError",
     "evalue": "invalid literal for int() with base 10: 'e'",
     "output_type": "error",
     "traceback": [
      "\u001b[0;31m---------------------------------------------------------------------------\u001b[0m",
      "\u001b[0;31mValueError\u001b[0m                                Traceback (most recent call last)",
      "\u001b[0;32m<ipython-input-10-e782938469f3>\u001b[0m in \u001b[0;36m<module>\u001b[0;34m\u001b[0m\n\u001b[0;32m----> 1\u001b[0;31m \u001b[0mint\u001b[0m\u001b[0;34m(\u001b[0m\u001b[0mnumero\u001b[0m\u001b[0;34m)\u001b[0m\u001b[0;34m\u001b[0m\u001b[0;34m\u001b[0m\u001b[0m\n\u001b[0m",
      "\u001b[0;31mValueError\u001b[0m: invalid literal for int() with base 10: 'e'"
     ]
    }
   ],
   "source": [
    "\n",
    "int(numero)"
   ]
  },
  {
   "cell_type": "code",
   "execution_count": null,
   "metadata": {},
   "outputs": [],
   "source": []
  }
 ],
 "metadata": {
  "kernelspec": {
   "display_name": "Python 3",
   "language": "python",
   "name": "python3"
  },
  "language_info": {
   "codemirror_mode": {
    "name": "ipython",
    "version": 3
   },
   "file_extension": ".py",
   "mimetype": "text/x-python",
   "name": "python",
   "nbconvert_exporter": "python",
   "pygments_lexer": "ipython3",
   "version": "3.7.4"
  }
 },
 "nbformat": 4,
 "nbformat_minor": 2
}
